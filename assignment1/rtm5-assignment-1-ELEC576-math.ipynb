{
 "cells": [
  {
   "cell_type": "markdown",
   "metadata": {},
   "source": [
    "## Derivative of tanh\n",
    "\n",
    "$$\\tanh x = { \\frac{\\sinh x}{\\cosh x} }\n",
    " = { \\frac {e^{x}-e^{-x}}{e^{x} +e^{-x}} } $$\n",
    "\n",
    "\n",
    "$$\\frac{d}{dx}{\\sinh x} = \\frac{1}{2}*(\\frac{d}{dx}e^{x}-\\frac{d}{dx}e^{-x}) = \\frac{1}{2}*(e^{x} + e^{-x}) = \\cosh x $$\n",
    "$$\\frac{d}{dx}{\\cosh x} = \\frac{1}{2}*(\\frac{d}{dx}e^{x}+\\frac{d}{dx}e^{-x}) = \\frac{1}{2}*(e^{x} - e^{-x}) = \\sinh x. $$\n",
    "<p style=\"text-align: center;\">  \n",
    "Applying the quotient rule:\n",
    "</p>\n",
    "\n",
    "$$ \\frac{d}{dx}{\\tanh x} = \\frac{\\cosh x \\frac{d}{dx} \\sinh x - \\sinh x \\frac{d}{dx} \\cosh x } {{\\cosh}^{2} x} $$\n",
    "\n",
    "$$ = \\frac{\\cosh x \\cosh x - \\sinh x \\sinh x}{\\cosh^{2} x}$$\n",
    "\n",
    "$$ = 1 - \\frac{\\sinh ^{2}x}{\\cosh^{2}x} = 1 - \\tanh^{2} x $$\n",
    "\n",
    "$$ \\blacksquare . $$\n",
    "\n",
    "\n"
   ]
  },
  {
   "cell_type": "markdown",
   "metadata": {},
   "source": [
    "## Derivative of logistic sigmoid\n",
    "\n",
    "$$ \\sigma (x)  \\frac{1}{1 + e^{-x}}$$\n",
    "\n",
    "<p style=\"text-align: center;\">  \n",
    "Applying the chain rule:\n",
    "</p>\n",
    "$$ \\frac{d}{dx} \\sigma (x) = - \\frac{1}{(1 + e^{-x})^{2}} * -e^{-x} $$\n",
    "\n",
    "$$ = \\sigma (x) \\frac{e^{-x}}{1 + e^{-x}} $$\n",
    "\n",
    "$$ = \\sigma (x) (1 - \\sigma (x)) $$\n",
    "\n",
    "$$ \\blacksquare . $$\n",
    "\n"
   ]
  },
  {
   "cell_type": "markdown",
   "metadata": {},
   "source": [
    "## Derivative of ReLU\n",
    "\n"
   ]
  },
  {
   "cell_type": "markdown",
   "metadata": {},
   "source": [
    ""
   ]
  },
  {
   "cell_type": "code",
   "execution_count": null,
   "metadata": {},
   "outputs": [],
   "source": [
    ""
   ]
  },
  {
   "cell_type": "code",
   "execution_count": null,
   "metadata": {},
   "outputs": [],
   "source": [
    ""
   ]
  }
 ],
 "metadata": {
  "kernelspec": {
   "display_name": "Python 2",
   "language": "python",
   "name": "python2"
  },
  "language_info": {
   "codemirror_mode": {
    "name": "ipython",
    "version": 2.0
   },
   "file_extension": ".py",
   "mimetype": "text/x-python",
   "name": "python",
   "nbconvert_exporter": "python",
   "pygments_lexer": "ipython2",
   "version": "2.7.6"
  }
 },
 "nbformat": 4,
 "nbformat_minor": 0
}